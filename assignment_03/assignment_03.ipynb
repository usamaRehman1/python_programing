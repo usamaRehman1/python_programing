{
 "cells": [
  {
   "cell_type": "code",
   "execution_count": 8,
   "metadata": {},
   "outputs": [
    {
     "name": "stdout",
     "output_type": "stream",
     "text": [
      "Enter First Number : 4\n",
      "Enter Second Number : 2\n",
      "Enter sign (+,-,/,^,% ) : ^\n",
      "4 ^ 2 = 16\n"
     ]
    }
   ],
   "source": [
    "# Question 01 (calculator)\n",
    "num1 = int(input(\"Enter First Number : \"))\n",
    "num2 = int(input(\"Enter Second Number : \"))\n",
    "sign = input(\"Enter sign (+,-,/,^,% ) : \")\n",
    "\n",
    "if sign == '+':\n",
    "    print(str(num1) + \" + \" + str(num2) + \" = \" + str(num1 + num2))\n",
    "elif sign == '-':\n",
    "    print(str(num1) + \" - \" + str(num2) + \" = \" + str(num1 - num2))\n",
    "elif sign == '/':\n",
    "    print(str(num1) + \" / \" + str(num2) + \" = \" + str(num1 // num2))\n",
    "elif sign == '^':\n",
    "    print(str(num1) + \" ^ \" + str(num2) + \" = \" + str(num1**num2))\n",
    "elif sign == '%':\n",
    "    print(str(num1) + \" % \" + str(num2) + \" = \" + str(num1 % num2))\n",
    "else:\n",
    "    print(\"Your sing is wrong\");"
   ]
  },
  {
   "cell_type": "code",
   "execution_count": 21,
   "metadata": {},
   "outputs": [
    {
     "name": "stdout",
     "output_type": "stream",
     "text": [
      "1 3 5 6 8 9 "
     ]
    }
   ],
   "source": [
    "# Question no 02 (all numeric value in the list )\n",
    "list1 = [1,'e',3,'a',5,6,'s',8,9,'y']\n",
    "\n",
    "for num in list1 :\n",
    "    if num != str(num) :\n",
    "        print(num, end = ' ')"
   ]
  },
  {
   "cell_type": "code",
   "execution_count": 22,
   "metadata": {},
   "outputs": [
    {
     "name": "stdout",
     "output_type": "stream",
     "text": [
      "{0: 10, 1: 20}\n",
      "{0: 10, 1: 20, 2: 30}\n"
     ]
    }
   ],
   "source": [
    "# Question no 03 (add a key to a dictionary)\n",
    "d = {0:10 , 1:20}\n",
    "print(d)\n",
    "d.update({2:30})\n",
    "print(d)"
   ]
  },
  {
   "cell_type": "code",
   "execution_count": 42,
   "metadata": {},
   "outputs": [
    {
     "name": "stdout",
     "output_type": "stream",
     "text": [
      "sum =  60\n"
     ]
    }
   ],
   "source": [
    "# Question no 04 (sum all numeric iteams in the dictionary)\n",
    "def ReturnSum(dic):\n",
    "    \n",
    "    sum = 0\n",
    "    for i in dic:\n",
    "        sum =sum + dic[i]  \n",
    "    \n",
    "    return sum\n",
    "    \n",
    "dic = {'a' : 10 , 'b':20 , 'c':30}\n",
    "print(\"sum = \" , ReturnSum(dic))"
   ]
  },
  {
   "cell_type": "code",
   "execution_count": 36,
   "metadata": {},
   "outputs": [
    {
     "name": "stdout",
     "output_type": "stream",
     "text": [
      "[10, 20, 30]\n"
     ]
    }
   ],
   "source": [
    "# Question no 05 (find Dublicate)\n",
    "# we create function and take arrgument and check dublicate using neasted loop and return the value \n",
    "# in the print\n",
    "def Repeat(x):\n",
    "    size = len(x)\n",
    "    repeated = []\n",
    "    for i in range(size):\n",
    "        k = i + 1\n",
    "        for j in range(k, size): \n",
    "            if x[i] == x[j] and x[i] not in repeated :\n",
    "                repeated.append(x[i])\n",
    "    return repeated            \n",
    "\n",
    "# Driver code\n",
    "list1 = [10, 20, 10, 30, 40, 20, 30]\n",
    "print(Repeat(list1))"
   ]
  },
  {
   "cell_type": "code",
   "execution_count": 31,
   "metadata": {},
   "outputs": [
    {
     "name": "stdout",
     "output_type": "stream",
     "text": [
      "Enter Key : 3\n",
      "key is present in the dictionary\n"
     ]
    }
   ],
   "source": [
    "# Question no 06 \n",
    "dic = {1:10, 2:20, 3:30, 4:40}\n",
    "\n",
    "def is_key_present(x):\n",
    "    if x in dic:\n",
    "        print(\"key is present in the dictionary\")\n",
    "    else:\n",
    "        print(\"key is not present in the dictionary\")\n",
    "        \n",
    "key = int(input(\"Enter Key : \")) \n",
    "is_key_present(key);\n",
    "        "
   ]
  },
  {
   "cell_type": "code",
   "execution_count": null,
   "metadata": {},
   "outputs": [],
   "source": []
  }
 ],
 "metadata": {
  "kernelspec": {
   "display_name": "Python 3",
   "language": "python",
   "name": "python3"
  },
  "language_info": {
   "codemirror_mode": {
    "name": "ipython",
    "version": 3
   },
   "file_extension": ".py",
   "mimetype": "text/x-python",
   "name": "python",
   "nbconvert_exporter": "python",
   "pygments_lexer": "ipython3",
   "version": "3.7.4"
  }
 },
 "nbformat": 4,
 "nbformat_minor": 2
}
