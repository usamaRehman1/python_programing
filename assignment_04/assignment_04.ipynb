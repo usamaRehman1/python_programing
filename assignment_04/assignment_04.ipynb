{
 "cells": [
  {
   "cell_type": "code",
   "execution_count": 1,
   "metadata": {},
   "outputs": [
    {
     "name": "stdout",
     "output_type": "stream",
     "text": [
      "Enter First Name : usama\n",
      "Enter Last Name : rehman\n",
      "Enter Your Age :20\n",
      "Enter city :karachi\n",
      "Enter Qualification : fsc\n",
      "{'f_name': 'usama', 'l_name': 'rehman', 'age': 20, 'cities': 'karachi', 'qual': 'fsc'}\n",
      "If you want to chage your qualification [y/n] : y\n",
      "{'f_name': 'usama', 'l_name': 'rehman', 'age': 20, 'cities': 'karachi'}\n",
      "Enter Qualification : BSC\n",
      "\n",
      "\t\tYour data ! \n",
      "Name  :  usamarehman\n",
      "Age  20\n",
      "city :  karachi\n",
      "Qualification :  BSC\n"
     ]
    }
   ],
   "source": [
    "# Question No 01\n",
    "person = {}\n",
    "person[\"f_name\"] = input(\"Enter First Name : \")\n",
    "person[\"l_name\"] = input(\"Enter Last Name : \")\n",
    "person[\"age\"] = int(input(\"Enter Your Age :\"))\n",
    "person[\"cities\"] = input(\"Enter city :\")\n",
    "person[\"qual\"] = input(\"Enter Qualification : \")\n",
    "\n",
    "print(person)\n",
    "change_qual = input(\"If you want to chage your qualification [y/n] : \")\n",
    "\n",
    "if change_qual == 'y' or change_qual == 'Y':\n",
    "    del person[\"qual\"]\n",
    "    print(person)\n",
    "    person[\"qual\"] = input(\"Enter Qualification : \")\n",
    "    \n",
    "print(\"\\n\\t\\tYour data ! \")\n",
    "print(\"Name  : \" ,  person['f_name'] + person[\"l_name\"] )\n",
    "print(\"Age \" ,  person[\"age\"])\n",
    "print(\"city : \" , person[\"cities\"])\n",
    "print(\"Qualification : \" ,person[\"qual\"])"
   ]
  },
  {
   "cell_type": "code",
   "execution_count": 2,
   "metadata": {},
   "outputs": [
    {
     "name": "stdout",
     "output_type": "stream",
     "text": [
      " city : karachi \n",
      " country :  Pakstan \n",
      " population :  2.5Billion \n",
      " fact :  The city of light \n",
      "\n",
      "\n",
      " city : Istambol \n",
      " country :  turkey \n",
      " population :  20Million \n",
      " fact :  Capital of turkey \n",
      "\n",
      "\n",
      " city : london \n",
      " country :  england \n",
      " population :  2.3Billion \n",
      " fact :  The home of cricket \n",
      "\n",
      "\n"
     ]
    }
   ],
   "source": [
    "# Question no 02\n",
    "cities = {\n",
    "    \"karachi\" : {\n",
    "        \"population\" : \"2.5Billion\",\n",
    "        \"country\" : \"Pakstan\",\n",
    "        \"Fact\" : \"The city of light\"\n",
    "    },\n",
    "    \"Istambol\": {\n",
    "        \"population\" : \"20Million\",\n",
    "        \"country\" : \"turkey\",\n",
    "        \"Fact\" : \"Capital of turkey\"\n",
    "    },\n",
    "    \"london\":  {\n",
    "        \"population\" : \"2.3Billion\",\n",
    "        \"country\" : \"england\",\n",
    "        \"Fact\" : \"The home of cricket\"\n",
    "    },\n",
    "}\n",
    "line_break = '\\n'\n",
    "for key in cities:\n",
    "    print(\" city : \" + key , line_break, \n",
    "      \"country : \" , cities[key][\"country\"],line_break, \n",
    "      \"population : \", cities[key][\"population\"] ,line_break,\n",
    "      \"fact : \" , cities[key][\"Fact\"],\"\\n\\n\")"
   ]
  },
  {
   "cell_type": "code",
   "execution_count": 3,
   "metadata": {},
   "outputs": [
    {
     "name": "stdout",
     "output_type": "stream",
     "text": [
      "Enter your age : 20\n",
      "Ticket price $15\n"
     ]
    }
   ],
   "source": [
    "# Question No 03\n",
    "for check_age in range(1) :\n",
    "    age = int(input(\"Enter your age : \"))\n",
    "    if age <= 3:\n",
    "        print(\"Ticket is free\")\n",
    "    elif age >= 3 and age <= 12 :\n",
    "        print(\"Ticket price $10\")\n",
    "    elif age >= 12 :\n",
    "        print(\"Ticket price $15\")"
   ]
  },
  {
   "cell_type": "code",
   "execution_count": 4,
   "metadata": {},
   "outputs": [
    {
     "name": "stdout",
     "output_type": "stream",
     "text": [
      "Enter Book title : A smater way to learn python\n",
      "Such as One of my favorite books is  A smater way to learn python\n"
     ]
    }
   ],
   "source": [
    "# Question NO 04\n",
    "def favorite_book(book_title):\n",
    "    print(\"Such as One of my favorite books is \", book_title)\n",
    "    return ;\n",
    "    \n",
    "book_title = input(\"Enter Book title : \")\n",
    "favorite_book(book_title)   "
   ]
  },
  {
   "cell_type": "code",
   "execution_count": 5,
   "metadata": {},
   "outputs": [
    {
     "name": "stdout",
     "output_type": "stream",
     "text": [
      "\t\tRandom number game ! \n",
      "You have a three chance to match your no. with random no.\n",
      "\n",
      "Enter Number : 23\n",
      "your number is grater than random no.\n",
      "\n",
      "Enter Number : 2\n",
      "Your number is less than random no.\n",
      "\n",
      "Enter Number : 6\n",
      "your number is grater than random no.\n",
      "\n",
      "game over\n"
     ]
    }
   ],
   "source": [
    "# Question No 05\n",
    "import random \n",
    "print(\"\\t\\tRandom number game ! \\nYou have a three chance to match your no. with random no.\\n\")\n",
    "for key in range(3):\n",
    "    ran_no = random.randint(1,30)\n",
    "#     print(ran_no) //check random no.\n",
    "    num = int(input(\"Enter Number : \"))\n",
    "    if ran_no == num :\n",
    "        print(\"congratulation you won the game \\n\")\n",
    "    elif ran_no < num :\n",
    "        print(\"your number is grater than random no.\\n\")\n",
    "    elif ran_no > num :\n",
    "        print(\"Your number is less than random no.\\n\")\n",
    "                \n",
    "print(\"game over\")"
   ]
  }
 ],
 "metadata": {
  "kernelspec": {
   "display_name": "Python 3",
   "language": "python",
   "name": "python3"
  },
  "language_info": {
   "codemirror_mode": {
    "name": "ipython",
    "version": 3
   },
   "file_extension": ".py",
   "mimetype": "text/x-python",
   "name": "python",
   "nbconvert_exporter": "python",
   "pygments_lexer": "ipython3",
   "version": "3.7.4"
  }
 },
 "nbformat": 4,
 "nbformat_minor": 2
}
