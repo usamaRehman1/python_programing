{
 "cells": [
  {
   "cell_type": "code",
   "execution_count": 2,
   "metadata": {},
   "outputs": [
    {
     "name": "stdout",
     "output_type": "stream",
     "text": [
      "Twinkle, twinkle, little star,\n",
      "\tHow I wonder what you are!\n",
      "\t\tup above the world so high,\n",
      "\t\tLike a diamond in the sky,\n",
      "Twinkle, twinkle, little star,\n",
      "\tHow I wonder what you are!\n"
     ]
    }
   ],
   "source": [
    "#Question No 01\n",
    "first_line_rep = \"Twinkle, twinkle, little star,\" \n",
    "second_line_rep = \"\\tHow I wonder what you are!\" \n",
    "line1 = \"\\t\\tup above the world so high,\"\n",
    "line2 = \"\\t\\tLike a diamond in the sky,\"\n",
    "line_brake = '\\n'\n",
    "print(first_line_rep + line_brake + second_line_rep + line_brake + line1 + line_brake + line2\n",
    "      + line_brake + first_line_rep + line_brake + second_line_rep)"
   ]
  },
  {
   "cell_type": "code",
   "execution_count": 1,
   "metadata": {},
   "outputs": [
    {
     "name": "stdout",
     "output_type": "stream",
     "text": [
      "Pythton version : 3.7.4 (default, Aug  9 2019, 18:34:13) [MSC v.1915 64 bit (AMD64)]\n",
      "Version Info :  sys.version_info(major=3, minor=7, micro=4, releaselevel='final', serial=0)\n"
     ]
    }
   ],
   "source": [
    "#Question No 02\n",
    "import sys\n",
    "system = sys.version\n",
    "print(\"Pythton version :\" ,system )\n",
    "print(\"Version Info : \" , sys.version_info)"
   ]
  },
  {
   "cell_type": "code",
   "execution_count": 4,
   "metadata": {},
   "outputs": [
    {
     "name": "stdout",
     "output_type": "stream",
     "text": [
      "Current Date AND Time\n",
      "2019-10-31  23:52:55\n"
     ]
    }
   ],
   "source": [
    "#Question No 03\n",
    "import datetime\n",
    "now = datetime.datetime.now()\n",
    "print(\"Current Date AND Time\")\n",
    "print(now.strftime(\"%Y-%m-%d  %H:%M:%S\"))"
   ]
  },
  {
   "cell_type": "code",
   "execution_count": 2,
   "metadata": {},
   "outputs": [
    {
     "name": "stdout",
     "output_type": "stream",
     "text": [
      "Enter Circle Radius :2\n",
      "The Area Of Circle :  12.568\n"
     ]
    }
   ],
   "source": [
    "#Question no 04\n",
    "radius = int(input(\"Enter Circle Radius :\"))\n",
    "area = 3.142 * (radius ** 2)\n",
    "print(\"The Area Of Circle : \", area)"
   ]
  },
  {
   "cell_type": "code",
   "execution_count": 3,
   "metadata": {},
   "outputs": [
    {
     "name": "stdout",
     "output_type": "stream",
     "text": [
      "Enter First Name :usama\n",
      "Entre Last Name :rehman\n",
      "rehman usama\n"
     ]
    }
   ],
   "source": [
    "#Question No 05 \n",
    "first_name = str(input(\"Enter First Name :\"))\n",
    "last_name = str(input(\"Entre Last Name :\"))\n",
    "print(last_name + ' ' + first_name)"
   ]
  },
  {
   "cell_type": "code",
   "execution_count": 4,
   "metadata": {},
   "outputs": [
    {
     "name": "stdout",
     "output_type": "stream",
     "text": [
      "Enter First Number: 2\n",
      "Enter Second Number 2\n",
      "2  +  2  =  4\n"
     ]
    }
   ],
   "source": [
    "#Question No 06 \n",
    "num1 = int(input(\"Enter First Number: \"))\n",
    "num2 = int(input(\"Enter Second Number \"))\n",
    "add = num1 + num2\n",
    "print(num1 , ' + ' , num2 , ' = ' , add)"
   ]
  }
 ],
 "metadata": {
  "kernelspec": {
   "display_name": "Python 3",
   "language": "python",
   "name": "python3"
  },
  "language_info": {
   "codemirror_mode": {
    "name": "ipython",
    "version": 3
   },
   "file_extension": ".py",
   "mimetype": "text/x-python",
   "name": "python",
   "nbconvert_exporter": "python",
   "pygments_lexer": "ipython3",
   "version": "3.7.4"
  }
 },
 "nbformat": 4,
 "nbformat_minor": 2
}
