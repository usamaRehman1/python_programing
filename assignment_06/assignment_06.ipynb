{
 "cells": [
  {
   "cell_type": "code",
   "execution_count": null,
   "metadata": {},
   "outputs": [],
   "source": [
    "# Question No 01 \n",
    "# \n",
    "# Object_oriented programing langue (OOP):\n",
    "#   Object_oriented programing is a programing paradigm based on the object which can contantain data\n",
    "#   in the form of field and code. Object's procedures that can access and often modify the data of \n",
    "#   the object with which they are access.OOP is bind data together in the object."
   ]
  },
  {
   "cell_type": "code",
   "execution_count": null,
   "metadata": {},
   "outputs": [],
   "source": [
    "# Question no 02\n",
    "\n",
    "# Benefits of OOP:\n",
    "# 1:OOP is a programing technique that bind the data together.\n",
    "# 2:Object are the base unit of OOP.\n",
    "# 3:pyton fully support object_oriented programing include the four pillars of OOP development.\n",
    "#  ->Abstraction :Abstraction refers to shwoing only the essential feature of the application and \n",
    "#    hidding the datails. \n",
    "#  ->Encapsulation :it can also be said data binding .\n",
    "#  ->inheritance : inheritance is a way to reuse once written code again and again.\n",
    "#  ->polymorphism :it is a feature, that tell us overloading like same method but differente argument."
   ]
  },
  {
   "cell_type": "code",
   "execution_count": null,
   "metadata": {},
   "outputs": [],
   "source": [
    "# Question no 03 \n",
    "\n",
    "# A method in python is somewhat similar to a function, except it is associate with object/classes .\n",
    "# The two major differences is the method is implicitly used for an object for which it is called.\n",
    "# The method is accessible to data that is cantained within the class."
   ]
  },
  {
   "cell_type": "code",
   "execution_count": null,
   "metadata": {},
   "outputs": [],
   "source": [
    "# Question no 04\n",
    "\n",
    "# 1->Class : In python , class are templates.they help you standardize and organize information.\n",
    "# when we define the class so object memory is automatically create.\n",
    "\n",
    "\n",
    "# 2->Object :Object is a unit of OOP it can create a multiple copy of classs.It consists of a set of\n",
    "#     attribute and a set of method. \n",
    "    \n",
    "# 3->Attribute :Attributes like other object. All function have a built-in attribute _doc_,which \n",
    "#     return the doc string defined in the function source code.\n",
    "    \n",
    "# 4->Behavior :Behavior-driven development is an agile software development technique that encourages\n",
    "#     collaboration between developers."
   ]
  },
  {
   "cell_type": "code",
   "execution_count": 13,
   "metadata": {},
   "outputs": [
    {
     "name": "stdout",
     "output_type": "stream",
     "text": [
      "Car no 1 : \n",
      " \n",
      "Name :  fortuner \n",
      "Model :  2019 \n",
      "Color :  black \n",
      "Avearage speed :  175km/h \n",
      "Capacity :  four person\n",
      "\n",
      "Car no 2 : \n",
      " \n",
      "Name :  Cultus \n",
      "Model :  2015 \n",
      "Color :  red \n",
      "Avearage speed :  65km/h \n",
      "Capacity :  four person\n",
      "\n",
      "Car no 3 : \n",
      " \n",
      "Name :  honda \n",
      "Model :  2014 \n",
      "Color :  blue \n",
      "Avearage speed :  120km/h \n",
      "Capacity :  four person\n",
      "\n",
      "Car no 4 : \n",
      " \n",
      "Name :  mehran \n",
      "Model :  2019 \n",
      "Color :  golden \n",
      "Avearage speed :  70km/h \n",
      "Capacity :  four person\n",
      "\n",
      "Car no 5 : \n",
      " \n",
      "Name :  honda \n",
      "Model :  2018 \n",
      "Color :  golden \n",
      "Avearage speed :  120km/h \n",
      "Capacity :  four person\n"
     ]
    }
   ],
   "source": [
    "# Question No 05\n",
    "class Car():\n",
    "    def __init__(self,model,color,name,average_speed):\n",
    "        self.model = model\n",
    "        self.color = color\n",
    "        self.name = name\n",
    "        self.average_speed = average_speed\n",
    "        self.capacity = 'four person'\n",
    "\n",
    "        \n",
    "        \n",
    "\n",
    "obj1 = Car(2019 , 'black', 'fortuner','175km/h') \n",
    "obj2 = Car(2015 , 'red', 'Cultus','65km/h') \n",
    "obj3 = Car(2014 , 'blue', 'honda', '120km/h') \n",
    "obj4 = Car(2019 , 'golden', 'mehran','70km/h') \n",
    "obj5 = Car(2018 , 'golden', 'honda', '120km/h') \n",
    "\n",
    "print('Car no 1 : \\n' ,'\\nName : ', obj1.name, '\\nModel : ', obj1.model , '\\nColor : ', obj1.color,'\\nAvearage speed : ', obj1.average_speed , '\\nCapacity : ', obj1.capacity )\n",
    "print('\\nCar no 2 : \\n' ,'\\nName : ', obj2.name, '\\nModel : ', obj2.model , '\\nColor : ', obj2.color,'\\nAvearage speed : ', obj2.average_speed , '\\nCapacity : ', obj2.capacity )\n",
    "print('\\nCar no 3 : \\n' ,'\\nName : ', obj3.name, '\\nModel : ', obj3.model , '\\nColor : ', obj3.color,'\\nAvearage speed : ', obj3.average_speed , '\\nCapacity : ', obj3.capacity )\n",
    "print('\\nCar no 4 : \\n' ,'\\nName : ', obj4.name, '\\nModel : ', obj4.model , '\\nColor : ', obj4.color,'\\nAvearage speed : ', obj4.average_speed , '\\nCapacity : ', obj4.capacity )\n",
    "print('\\nCar no 5 : \\n' ,'\\nName : ', obj5.name, '\\nModel : ', obj5.model , '\\nColor : ', obj5.color,'\\nAvearage speed : ', obj5.average_speed , '\\nCapacity : ', obj5.capacity )\n",
    "\n"
   ]
  },
  {
   "cell_type": "code",
   "execution_count": null,
   "metadata": {},
   "outputs": [],
   "source": []
  }
 ],
 "metadata": {
  "kernelspec": {
   "display_name": "Python 3",
   "language": "python",
   "name": "python3"
  },
  "language_info": {
   "codemirror_mode": {
    "name": "ipython",
    "version": 3
   },
   "file_extension": ".py",
   "mimetype": "text/x-python",
   "name": "python",
   "nbconvert_exporter": "python",
   "pygments_lexer": "ipython3",
   "version": "3.7.4"
  }
 },
 "nbformat": 4,
 "nbformat_minor": 2
}
