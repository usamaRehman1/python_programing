{
 "cells": [
  {
   "cell_type": "code",
   "execution_count": 1,
   "metadata": {},
   "outputs": [
    {
     "name": "stdout",
     "output_type": "stream",
     "text": [
      "Enter number :3\n",
      "The factorial of 3 is 6\n"
     ]
    }
   ],
   "source": [
    "##Question 01\n",
    "def recur_factorial(n):\n",
    "    if n == 1:\n",
    "        return n;\n",
    "    else:\n",
    "        return n*recur_factorial(n-1);\n",
    "num = int(input('Enter number :'));\n",
    "\n",
    "if num < 0:\n",
    "    print(\"Sorry, factorial does not exixt for negative numbers\");\n",
    "elif num == 0:\n",
    "    print(\"The factorial of 0 is 1\");\n",
    "else:\n",
    "    print(\"The factorial of\", num, \"is\", recur_factorial(num))"
   ]
  },
  {
   "cell_type": "code",
   "execution_count": 2,
   "metadata": {},
   "outputs": [
    {
     "name": "stdout",
     "output_type": "stream",
     "text": [
      "Enter name :UsamaRehman\n",
      "lower case letter  9\n",
      "upper case latter  2\n"
     ]
    }
   ],
   "source": [
    "##Question 02\n",
    "word = input('Enter name :')\n",
    "count1 = 0;\n",
    "count2 = 0;\n",
    "for i in word:\n",
    "    if (i.islower()):\n",
    "        count1 = count1+1 ;\n",
    "    elif (i.isupper()):\n",
    "        count2 = count2 +1;\n",
    "    else :\n",
    "        print('wrong input')\n",
    "    \n",
    "print('lower case letter ' , count1)\n",
    "print('upper case latter ' , count2)"
   ]
  },
  {
   "cell_type": "code",
   "execution_count": 3,
   "metadata": {},
   "outputs": [
    {
     "name": "stdout",
     "output_type": "stream",
     "text": [
      "2  is even number \n",
      "4  is even number \n",
      "6  is even number \n",
      "8  is even number \n"
     ]
    }
   ],
   "source": [
    "##Question 03\n",
    "def even(n):\n",
    "    for check_even in n :\n",
    "        if check_even % 2 ==0:\n",
    "            print(check_even ,\" is even number \")\n",
    "            \n",
    "list_value = {1,2,3,4,5,6,7,8,9 }\n",
    "even(list_value)"
   ]
  },
  {
   "cell_type": "code",
   "execution_count": 6,
   "metadata": {},
   "outputs": [
    {
     "name": "stdout",
     "output_type": "stream",
     "text": [
      "Enter word : mom\n",
      "mom is palindrome \n"
     ]
    }
   ],
   "source": [
    "##Question 04\n",
    "def palindrome(take_val):\n",
    "    rev_val = ''.join(reversed(take_val))\n",
    "    \n",
    "    if take_val == rev_val :\n",
    "        return True\n",
    "    return False\n",
    "\n",
    "\n",
    "take_val =input(\"Enter word : \")\n",
    "ans = palindrome(take_val)\n",
    "\n",
    "if (ans):\n",
    "    print(take_val + \" is palindrome \")\n",
    "else:\n",
    "    print(take_val + \" is not palindrome\")"
   ]
  },
  {
   "cell_type": "code",
   "execution_count": 22,
   "metadata": {},
   "outputs": [
    {
     "name": "stdout",
     "output_type": "stream",
     "text": [
      "Enter number : 17\n",
      "17  is a prime number\n"
     ]
    }
   ],
   "source": [
    "##Question 05\n",
    "def prime_num(n):\n",
    "    flag = 0\n",
    "    if n < 0 :\n",
    "        print(n , \"is not a prime number\")\n",
    "        exit(1)\n",
    "        \n",
    "    for i in range(2, n//2):\n",
    "        if(n % i) ==  0 :\n",
    "            flag = 1\n",
    "            \n",
    "    if flag == 0 :\n",
    "        print(n , \" is a prime number\")\n",
    "    else :\n",
    "        print(n , \" is not a prime number\")\n",
    "            \n",
    "        \n",
    "num = int(input(\"Enter number : \"))\n",
    "prime_num(num)"
   ]
  },
  {
   "cell_type": "code",
   "execution_count": 27,
   "metadata": {},
   "outputs": [
    {
     "name": "stdout",
     "output_type": "stream",
     "text": [
      "How many iteam are you enter  :3\n",
      "Enter iteam : fries\n",
      "Enter iteam : pizza\n",
      "Enter iteam : burger\n",
      "You bought in the market \n",
      "\n",
      "fries\n",
      "pizza\n",
      "burger\n"
     ]
    }
   ],
   "source": [
    "# Question 06\n",
    "def shop(iteam_list) :\n",
    "    print(\"You bought in the market \\n\")\n",
    "    for each_iteam in iteam_list:\n",
    "        print(each_iteam)\n",
    "        \n",
    "#     return 0 ;\n",
    "     \n",
    "iteam_no = int(input(\"How many iteam are you enter  :\"))\n",
    "iteam_list = []\n",
    "for i in range(1, iteam_no + 1):\n",
    "    iteam_list.append(input(\"Enter iteam : \"))\n",
    "    \n",
    "shop(iteam_list)\n",
    "    \n",
    "    "
   ]
  }
 ],
 "metadata": {
  "kernelspec": {
   "display_name": "Python 3",
   "language": "python",
   "name": "python3"
  },
  "language_info": {
   "codemirror_mode": {
    "name": "ipython",
    "version": 3
   },
   "file_extension": ".py",
   "mimetype": "text/x-python",
   "name": "python",
   "nbconvert_exporter": "python",
   "pygments_lexer": "ipython3",
   "version": "3.7.4"
  }
 },
 "nbformat": 4,
 "nbformat_minor": 2
}
