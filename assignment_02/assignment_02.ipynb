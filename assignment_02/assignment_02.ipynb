{
 "cells": [
  {
   "cell_type": "code",
   "execution_count": 3,
   "metadata": {},
   "outputs": [
    {
     "name": "stdout",
     "output_type": "stream",
     "text": [
      "\t\tMarks sheet\n",
      " \n",
      "Enter Physics Marks : 50\n",
      "Enter Mathematics Marks : 70\n",
      "Entre Chemistry Marks : 60\n",
      "Enter Computer Marks : 40\n",
      "Enter English Marks : 70\n",
      "\t\tReport\n",
      "Total Marks  290  out of 500\n",
      "Percentage =  57 %\n",
      "grade = C \n"
     ]
    }
   ],
   "source": [
    "#Que_01\n",
    "print(\"\\t\\tMarks sheet\\n \")\n",
    "phy = int(input(\"Enter Physics Marks : \"))\n",
    "math = int(input(\"Enter Mathematics Marks : \"))\n",
    "che = int(input(\"Entre Chemistry Marks : \"))\n",
    "com = int(input(\"Enter Computer Marks : \"))\n",
    "eng = int(input(\"Enter English Marks : \"))\n",
    "\n",
    "if phy <= 100 and math <= 100 and che <= 100 and com <= 100 and eng <=100 :\n",
    "    total_marks = phy + math + com + che + eng \n",
    "    percentage = (total_marks / 500 ) * 100 \n",
    "    if percentage <= 100 and percentage >= 80 :\n",
    "        print(\"\\t\\tReport\")\n",
    "        print(\"Total Marks \" , int(total_marks), \" out of 500\")\n",
    "        print(\"Percentage = \" , int(percentage), \"%\")\n",
    "        print(\"grade = A+\")\n",
    "    elif percentage <= 79  and percentage >= 70 :\n",
    "        print(\"\\t\\tReport\")\n",
    "        print(\"Total Marks \" , int(total_marks), \" out of 500\")\n",
    "        print(\"Percentage = \" , int(percentage), \"%\")\n",
    "        print(\"grade = A \")\n",
    "    elif  percentage <= 69  and percentage >= 60 :  \n",
    "        print(\"\\t\\tReport\")\n",
    "        print(\"Total Marks \" , int(total_marks), \" out of 500\")\n",
    "        print(\"Percentage = \" , int(percentage), \"%\")\n",
    "        print(\"grade = B \")\n",
    "    elif  percentage <= 59  and percentage >= 50 : \n",
    "        print(\"\\t\\tReport\")\n",
    "        print(\"Total Marks \" , int(total_marks), \" out of 500\")\n",
    "        print(\"Percentage = \" , int(percentage), \"%\")\n",
    "        print(\"grade = C \")\n",
    "    elif percentage <= 49  and percentage >= 40 :\n",
    "        print(\"\\t\\tReport\")\n",
    "        print(\"Total Marks \" , int(total_marks), \" out of 500\")\n",
    "        print(\"Percentage = \" , int(percentage), \"%\")\n",
    "        print(\"grade = D \")\n",
    "    else :\n",
    "        print(\"Fail.......\")\n",
    "else :\n",
    "    print(\"You are entering somthing wrong \\nEach subject contain 100 marks \")"
   ]
  },
  {
   "cell_type": "code",
   "execution_count": 7,
   "metadata": {},
   "outputs": [
    {
     "name": "stdout",
     "output_type": "stream",
     "text": [
      "\t\tEven OR Odd number \n",
      "Enter Number : 6\n",
      "6  is even number !\n"
     ]
    }
   ],
   "source": [
    "#Que_02\n",
    "print(\"\\t\\tEven OR Odd number \")\n",
    "num = int(input(\"Enter Number : \"))\n",
    "if num % 2 == 0 :\n",
    "    print(num , \" is even number !\")\n",
    "else:\n",
    "    print(num , \" is odd number\")"
   ]
  },
  {
   "cell_type": "code",
   "execution_count": 11,
   "metadata": {},
   "outputs": [
    {
     "name": "stdout",
     "output_type": "stream",
     "text": [
      "['karachi', 'Multan', 'hydrabad', 'Rawalpindi', 'lahore', 'kashmir']\n",
      "The length of the list is  6\n"
     ]
    }
   ],
   "source": [
    "#Que_03\n",
    "cities = [\"karachi\",\"Multan\", \"hydrabad\",\"Rawalpindi\", \"lahore\", \"kashmir\"]\n",
    "print(cities)\n",
    "print(\"The length of the list is \", len(cities))"
   ]
  },
  {
   "cell_type": "code",
   "execution_count": 28,
   "metadata": {},
   "outputs": [
    {
     "name": "stdout",
     "output_type": "stream",
     "text": [
      "How many number are you enter in the list : 2\n",
      "Enter Number : 2\n",
      "Enter Number : 2\n",
      "The sum of numeric value is  4\n"
     ]
    }
   ],
   "source": [
    "#Que_04\n",
    "numeric_item = []\n",
    "num = int(input(\"How many number are you enter in the list : \"))\n",
    "for n in range(num):\n",
    "    number = int(input(\"Enter Number : \"))\n",
    "    numeric_item.append(number)\n",
    "print(\"The sum of numeric value is \" , sum(numeric_item))"
   ]
  },
  {
   "cell_type": "code",
   "execution_count": 31,
   "metadata": {},
   "outputs": [
    {
     "name": "stdout",
     "output_type": "stream",
     "text": [
      "How many number are you enter in the list : 5\n",
      "Enter number : 8\n",
      "Enter number : 4\n",
      "Enter number : 7\n",
      "Enter number : 3\n",
      "Enter number : 8\n",
      "List =  [8, 4, 7, 3, 8]\n",
      "The Largest number in the list is  8\n"
     ]
    }
   ],
   "source": [
    "#Que_05\n",
    "numeric_item = []\n",
    "num = int(input(\"How many number are you enter in the list : \"))\n",
    "for n in range(num):\n",
    "    number= int(input(\"Enter number : \"))\n",
    "    numeric_item.append(number)\n",
    "print(\"List = \", numeric_item)    \n",
    "print(\"The Largest number in the list is \", max(numeric_item))    \n",
    "    "
   ]
  },
  {
   "cell_type": "code",
   "execution_count": 51,
   "metadata": {},
   "outputs": [
    {
     "name": "stdout",
     "output_type": "stream",
     "text": [
      "How many number are you enter in the list : 5\n",
      "Enter number : 2\n",
      "Enter number : 7\n",
      "Enter number : 9\n",
      "Enter number : 4\n",
      "Enter number : 5\n",
      "List =  [2, 7, 9, 4, 5]\n",
      "New List   [2, 4]\n"
     ]
    }
   ],
   "source": [
    "#Que_06\n",
    "numeric_item = []\n",
    "num = int(input(\"How many number are you enter in the list : \"))\n",
    "for n in range(num):\n",
    "    number= int(input(\"Enter number : \"))\n",
    "    numeric_item.append(number)\n",
    "print(\"List = \", numeric_item) \n",
    "list1 = []\n",
    " \n",
    "for check in numeric_item :\n",
    "    if check < 5 :\n",
    "        list1.append(check) \n",
    "        \n",
    "print(\"New List  \", list1 )   \n"
   ]
  }
 ],
 "metadata": {
  "kernelspec": {
   "display_name": "Python 3",
   "language": "python",
   "name": "python3"
  },
  "language_info": {
   "codemirror_mode": {
    "name": "ipython",
    "version": 3
   },
   "file_extension": ".py",
   "mimetype": "text/x-python",
   "name": "python",
   "nbconvert_exporter": "python",
   "pygments_lexer": "ipython3",
   "version": "3.7.4"
  }
 },
 "nbformat": 4,
 "nbformat_minor": 2
}
